{
 "cells": [
  {
   "cell_type": "markdown",
   "id": "db94bd4f-a963-462c-bf22-7ec378769973",
   "metadata": {},
   "source": [
    "# Encapsulation"
   ]
  },
  {
   "cell_type": "code",
   "execution_count": 7,
   "id": "60ed98b6-76c2-40f2-a9eb-113faca50163",
   "metadata": {},
   "outputs": [],
   "source": [
    "class test:\n",
    "    def __init__(self,a,b):\n",
    "        self.a = a\n",
    "        self.b = b\n"
   ]
  },
  {
   "cell_type": "code",
   "execution_count": 8,
   "id": "9e2830c2-4643-4225-b880-899520c6265a",
   "metadata": {},
   "outputs": [],
   "source": [
    "t=test(45,40)"
   ]
  },
  {
   "cell_type": "markdown",
   "id": "511a8268-610e-492a-a86c-62bd44f5a8da",
   "metadata": {},
   "source": [
    "Now if we try to access"
   ]
  },
  {
   "cell_type": "code",
   "execution_count": 9,
   "id": "02462767-0d0e-4efd-b1b3-34ede34b4d0e",
   "metadata": {},
   "outputs": [
    {
     "data": {
      "text/plain": [
       "45"
      ]
     },
     "execution_count": 9,
     "metadata": {},
     "output_type": "execute_result"
    }
   ],
   "source": [
    "t.a"
   ]
  },
  {
   "cell_type": "code",
   "execution_count": 10,
   "id": "c5563eb6-89fd-4fbf-8311-dafe20f846cd",
   "metadata": {},
   "outputs": [
    {
     "data": {
      "text/plain": [
       "40"
      ]
     },
     "execution_count": 10,
     "metadata": {},
     "output_type": "execute_result"
    }
   ],
   "source": [
    "t.b"
   ]
  },
  {
   "cell_type": "markdown",
   "id": "cd3d14b8-b846-4d83-ba42-032cf4d5bfe6",
   "metadata": {},
   "source": [
    "We are able to access it.\n"
   ]
  },
  {
   "cell_type": "markdown",
   "id": "6badbdc6-83bb-498c-97cf-6e3aa5c34042",
   "metadata": {},
   "source": [
    "If we assign new value then the output will be new value."
   ]
  },
  {
   "cell_type": "code",
   "execution_count": 11,
   "id": "a49efa03-6068-4b96-8601-43ad5abba7b5",
   "metadata": {},
   "outputs": [],
   "source": [
    "t.a = 3453"
   ]
  },
  {
   "cell_type": "markdown",
   "id": "b96a4456-fb0b-4d86-ada9-51f280b2e710",
   "metadata": {},
   "source": [
    "Here, we can observe that we have the ability to access and assign variables. **However, this can be dangerous when we're dealing with industry-level coding.** The reason is that anyone would be able to access our variables and make any kind of modifications. **We cannot allow such operations to be performed.**\r\n",
    "\r\n",
    "At times, we need to take preventive measures to ensure that users cannot access variables directly or modify them directly. This is where the concept of encapsulation becomes important."
   ]
  },
  {
   "cell_type": "markdown",
   "id": "7e7d66dc-85fd-4c7f-877a-269a16b0d17a",
   "metadata": {},
   "source": [
    "**Encapsulation is the concept that enables us to prevent any kind of direct access or direct modification of data in object-oriented programming.**"
   ]
  },
  {
   "cell_type": "markdown",
   "id": "cf25bd80-871d-4ef4-8d89-857c351826c5",
   "metadata": {},
   "source": [
    "We have all taken capsules that were recommended by a doctor. We are not aware of the composition inside the capsule, nor are we able to modify the composition. We simply know that this capsule was prescribed by our doctor, and if we take it, it may cure us of a particular disease. This is a common idea held by the average user.\r\n",
    "\r\n",
    "The concept in programming is similar: to create a sort of capsule where the user is unable to access or modify the data directly. If they need to make any alterations to the data, they will only be able to do so through a method that has been defined by m.\""
   ]
  },
  {
   "cell_type": "code",
   "execution_count": 12,
   "id": "f950e662-7264-4576-a284-9beae4dc0c76",
   "metadata": {},
   "outputs": [],
   "source": [
    "class car:\n",
    "    \n",
    "    def __init__(self , year , make , model ,speed ) :\n",
    "        self.__year = year \n",
    "        self.__make = make\n",
    "        self.__model = model\n",
    "        self.__speed = speed"
   ]
  },
  {
   "cell_type": "markdown",
   "id": "d3aa3108-69f6-41fc-850a-57655ef114da",
   "metadata": {},
   "source": [
    " **__** makes the variable private."
   ]
  },
  {
   "cell_type": "markdown",
   "id": "545be59e-e761-4ee5-980c-5c12dc4bd114",
   "metadata": {},
   "source": [
    "Let's initalize the object"
   ]
  },
  {
   "cell_type": "code",
   "execution_count": 13,
   "id": "c46cbd0c-0fa8-48d4-b3c8-97248cb83d2a",
   "metadata": {},
   "outputs": [],
   "source": [
    "obj_car = car(2021 , \"toyota\" , \"innova\" , 12)"
   ]
  },
  {
   "cell_type": "markdown",
   "id": "92e8e468-a822-4e6d-9998-02c1259b4be3",
   "metadata": {},
   "source": [
    "If we write **obj_car.** and press tab we will not be able to see any pop up."
   ]
  },
  {
   "cell_type": "markdown",
   "id": "838de9a6-0618-4221-a6b8-5bacea7f5734",
   "metadata": {},
   "source": [
    "If we write,"
   ]
  },
  {
   "cell_type": "code",
   "execution_count": 15,
   "id": "dbf60e57-0f9c-43e8-b0cd-bbf864c56e74",
   "metadata": {},
   "outputs": [
    {
     "ename": "AttributeError",
     "evalue": "'car' object has no attribute 'year'",
     "output_type": "error",
     "traceback": [
      "\u001b[1;31m---------------------------------------------------------------------------\u001b[0m",
      "\u001b[1;31mAttributeError\u001b[0m                            Traceback (most recent call last)",
      "Cell \u001b[1;32mIn[15], line 1\u001b[0m\n\u001b[1;32m----> 1\u001b[0m \u001b[43mobj_car\u001b[49m\u001b[38;5;241;43m.\u001b[39;49m\u001b[43myear\u001b[49m\n",
      "\u001b[1;31mAttributeError\u001b[0m: 'car' object has no attribute 'year'"
     ]
    }
   ],
   "source": [
    "obj_car.year"
   ]
  },
  {
   "cell_type": "code",
   "execution_count": 16,
   "id": "f9a23260-d65e-4e41-9d96-e3f08eaea38e",
   "metadata": {},
   "outputs": [
    {
     "ename": "AttributeError",
     "evalue": "'car' object has no attribute '__year'",
     "output_type": "error",
     "traceback": [
      "\u001b[1;31m---------------------------------------------------------------------------\u001b[0m",
      "\u001b[1;31mAttributeError\u001b[0m                            Traceback (most recent call last)",
      "Cell \u001b[1;32mIn[16], line 1\u001b[0m\n\u001b[1;32m----> 1\u001b[0m \u001b[43mobj_car\u001b[49m\u001b[38;5;241;43m.\u001b[39;49m\u001b[43m__year\u001b[49m\n",
      "\u001b[1;31mAttributeError\u001b[0m: 'car' object has no attribute '__year'"
     ]
    }
   ],
   "source": [
    "obj_car.__year"
   ]
  },
  {
   "cell_type": "markdown",
   "id": "6897a96f-6d2c-4cae-bea0-9e16888d08c1",
   "metadata": {},
   "source": [
    "We can only access it by"
   ]
  },
  {
   "cell_type": "code",
   "execution_count": 17,
   "id": "b965bd5e-94d3-4a75-9dc4-7d299a9e55ce",
   "metadata": {},
   "outputs": [
    {
     "data": {
      "text/plain": [
       "2021"
      ]
     },
     "execution_count": 17,
     "metadata": {},
     "output_type": "execute_result"
    }
   ],
   "source": [
    "obj_car._car__year"
   ]
  },
  {
   "cell_type": "markdown",
   "id": "c981f68e-e5cf-44cf-8971-4eb594c534a9",
   "metadata": {},
   "source": [
    "We are aware of the class name and variable names. Let's suppose I am an unknown user. This entire implementation will not allow me to see the year, model, or make variables.\n",
    "\n",
    "So, whatever class variables are created, if they are public, then they will be visible, just like \"t.a\" But if they are private, then they will not be visible because the codebase will be hidden. Therefore, no one will be able to see what kind of functions or variables have been declared in our class.\""
   ]
  },
  {
   "cell_type": "markdown",
   "id": "2a6f3f3b-05e7-45c0-abbd-416120088d62",
   "metadata": {},
   "source": [
    "Now if we want to change it"
   ]
  },
  {
   "cell_type": "code",
   "execution_count": 18,
   "id": "a5f1529a-2015-4cf3-b2ac-01429b9918f4",
   "metadata": {},
   "outputs": [],
   "source": [
    "obj_car._car__year = 2023"
   ]
  },
  {
   "cell_type": "code",
   "execution_count": 19,
   "id": "a345cdaa-0c3d-4ad1-a8f5-cdcdb2be96b6",
   "metadata": {},
   "outputs": [
    {
     "data": {
      "text/plain": [
       "2023"
      ]
     },
     "execution_count": 19,
     "metadata": {},
     "output_type": "execute_result"
    }
   ],
   "source": [
    "obj_car._car__year"
   ]
  },
  {
   "cell_type": "markdown",
   "id": "d9381aed-2c16-45af-8e36-9201e89a09d1",
   "metadata": {},
   "source": [
    "Only the creator will be able to access the codebase; those who are not the creator will not be able to see it."
   ]
  },
  {
   "cell_type": "markdown",
   "id": "e0e33202-80ee-4f3c-8f9a-c34595b77311",
   "metadata": {},
   "source": [
    "**Encapsulation is the practice of hiding the entire implementation of a class's variables, so that they are not visible to the user.**"
   ]
  },
  {
   "cell_type": "markdown",
   "id": "b30fa587-7706-49ec-a7dd-068173ddd74b",
   "metadata": {},
   "source": [
    "If we want someone to change the value then we can create,"
   ]
  },
  {
   "cell_type": "code",
   "execution_count": 20,
   "id": "3fad48ef-2a3e-47fd-a686-998749110e04",
   "metadata": {},
   "outputs": [],
   "source": [
    "class car:\n",
    "    \n",
    "    def __init__(self , year , make , model ,speed ) :\n",
    "        self.__year = year \n",
    "        self.__make = make\n",
    "        self.__model = model\n",
    "        self.__speed = 0 \n",
    "    \n",
    "    def set_speed(self , speed) : \n",
    "        self.__speed = 0 if speed < 0 else speed"
   ]
  },
  {
   "cell_type": "code",
   "execution_count": 23,
   "id": "8f954fed-cc3e-486e-bf46-c498572f80f8",
   "metadata": {},
   "outputs": [],
   "source": [
    "obj_car = car(2021 , \"toyota\" , \"innova\" , 12)"
   ]
  },
  {
   "cell_type": "code",
   "execution_count": 24,
   "id": "0270cb67-7154-443b-ad59-29482ddc6dc6",
   "metadata": {},
   "outputs": [],
   "source": [
    "obj_car.set_speed(3453)"
   ]
  },
  {
   "cell_type": "code",
   "execution_count": 25,
   "id": "856af62c-9b41-46b4-a5ee-0ac58f5f26d2",
   "metadata": {},
   "outputs": [
    {
     "data": {
      "text/plain": [
       "3453"
      ]
     },
     "execution_count": 25,
     "metadata": {},
     "output_type": "execute_result"
    }
   ],
   "source": [
    "obj_car._car__speed"
   ]
  },
  {
   "cell_type": "markdown",
   "id": "ac423375-8c3f-43ea-8e5f-6aaf15c0523c",
   "metadata": {},
   "source": [
    "Because as a user you only know what variable are there."
   ]
  },
  {
   "cell_type": "code",
   "execution_count": 26,
   "id": "dceb083d-bf2f-4f29-9c76-4b5c39eb5cd0",
   "metadata": {},
   "outputs": [],
   "source": [
    "class car:\n",
    "    \n",
    "    def __init__(self , year , make , model ,speed ) :\n",
    "        self.__year = year \n",
    "        self.__make = make\n",
    "        self.__model = model\n",
    "        self.__speed = 0 \n",
    "    \n",
    "    def set_speed(self , speed) : \n",
    "        self.__speed = 0 if speed < 0 else speed \n",
    "    \n",
    "    def get_speed(self) : \n",
    "        return self.__speed"
   ]
  },
  {
   "cell_type": "code",
   "execution_count": 27,
   "id": "c1792e3f-5eaa-45bb-a2e3-bf1e2f55313b",
   "metadata": {},
   "outputs": [],
   "source": [
    "obj_car = car(2021 , \"toyota\" , \"innova\" , 12)"
   ]
  },
  {
   "cell_type": "code",
   "execution_count": 28,
   "id": "6504065c-ae66-4ef8-ac0b-9e27fe60d9e4",
   "metadata": {},
   "outputs": [
    {
     "data": {
      "text/plain": [
       "0"
      ]
     },
     "execution_count": 28,
     "metadata": {},
     "output_type": "execute_result"
    }
   ],
   "source": [
    "obj_car.get_speed()"
   ]
  },
  {
   "cell_type": "markdown",
   "id": "3e3ba261-0ba3-41bb-9d80-eb08a6a00ce5",
   "metadata": {},
   "source": [
    "So this was the idea of encapsulation in Oops."
   ]
  },
  {
   "cell_type": "code",
   "execution_count": null,
   "id": "a6c9af39-6404-4393-9633-194e416b0f7f",
   "metadata": {},
   "outputs": [],
   "source": []
  }
 ],
 "metadata": {
  "kernelspec": {
   "display_name": "Python 3 (ipykernel)",
   "language": "python",
   "name": "python3"
  },
  "language_info": {
   "codemirror_mode": {
    "name": "ipython",
    "version": 3
   },
   "file_extension": ".py",
   "mimetype": "text/x-python",
   "name": "python",
   "nbconvert_exporter": "python",
   "pygments_lexer": "ipython3",
   "version": "3.11.5"
  }
 },
 "nbformat": 4,
 "nbformat_minor": 5
}
